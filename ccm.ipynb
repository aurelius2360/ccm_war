{
 "cells": [
  {
   "cell_type": "code",
   "execution_count": 2,
   "id": "85b64b07",
   "metadata": {},
   "outputs": [],
   "source": [
    "import pandas as pd\n",
    "import numpy as np \n",
    "import matplotlib.pyplot as plt"
   ]
  },
  {
   "cell_type": "code",
   "execution_count": 3,
   "id": "b4e0860f",
   "metadata": {},
   "outputs": [
    {
     "data": {
      "application/vnd.microsoft.datawrangler.viewer.v0+json": {
       "columns": [
        {
         "name": "index",
         "rawType": "int64",
         "type": "integer"
        },
        {
         "name": "event_id_cnty",
         "rawType": "object",
         "type": "string"
        },
        {
         "name": "event_date",
         "rawType": "object",
         "type": "string"
        },
        {
         "name": "year",
         "rawType": "int64",
         "type": "integer"
        },
        {
         "name": "time_precision",
         "rawType": "int64",
         "type": "integer"
        },
        {
         "name": "disorder_type",
         "rawType": "object",
         "type": "string"
        },
        {
         "name": "event_type",
         "rawType": "object",
         "type": "string"
        },
        {
         "name": "sub_event_type",
         "rawType": "object",
         "type": "string"
        },
        {
         "name": "actor1",
         "rawType": "object",
         "type": "string"
        },
        {
         "name": "assoc_actor_1",
         "rawType": "object",
         "type": "unknown"
        },
        {
         "name": "inter1",
         "rawType": "int64",
         "type": "integer"
        },
        {
         "name": "interaction",
         "rawType": "int64",
         "type": "integer"
        },
        {
         "name": "civilian_targeting",
         "rawType": "object",
         "type": "unknown"
        },
        {
         "name": "iso",
         "rawType": "int64",
         "type": "integer"
        },
        {
         "name": "region",
         "rawType": "object",
         "type": "string"
        },
        {
         "name": "country",
         "rawType": "object",
         "type": "string"
        },
        {
         "name": "admin1",
         "rawType": "object",
         "type": "string"
        },
        {
         "name": "admin2",
         "rawType": "object",
         "type": "string"
        },
        {
         "name": "admin3",
         "rawType": "object",
         "type": "unknown"
        },
        {
         "name": "location",
         "rawType": "object",
         "type": "string"
        },
        {
         "name": "latitude",
         "rawType": "float64",
         "type": "float"
        },
        {
         "name": "longitude",
         "rawType": "float64",
         "type": "float"
        },
        {
         "name": "geo_precision",
         "rawType": "int64",
         "type": "integer"
        },
        {
         "name": "source",
         "rawType": "object",
         "type": "string"
        },
        {
         "name": "source_scale",
         "rawType": "object",
         "type": "string"
        },
        {
         "name": "notes",
         "rawType": "object",
         "type": "string"
        },
        {
         "name": "fatalities",
         "rawType": "int64",
         "type": "integer"
        },
        {
         "name": "tags",
         "rawType": "object",
         "type": "unknown"
        },
        {
         "name": "timestamp",
         "rawType": "int64",
         "type": "integer"
        }
       ],
       "ref": "7ea34e7d-490a-4844-bea9-c269ee28e377",
       "rows": [
        [
         "0",
         "RUS36157",
         "01 May 2025",
         "2025",
         "1",
         "Political violence",
         "Explosions/Remote violence",
         "Air/drone strike",
         "Military Forces of Ukraine (2019-) Air Force",
         "Military Forces of Ukraine (2019-)",
         "8",
         "80",
         null,
         "643",
         "Europe",
         "Russia",
         "Belgorod",
         "Krasnoyaruzhskiy",
         null,
         "Romanovka",
         "50.9545",
         "35.4445",
         "1",
         "Belgorod Governor",
         "Subnational",
         "On 1 May 2025, Ukrainian military carried out 37 drone strikes and shelled 26 times with 203 likely artillery shells 10 locations across the Krasnoyaruzhskiy district, including the village of Romanovka, Belgorod. Across 10 settlements: No casualties.",
         "0",
         null,
         "1746560207"
        ],
        [
         "1",
         "UKR223669",
         "01 May 2025",
         "2025",
         "1",
         "Political violence",
         "Explosions/Remote violence",
         "Air/drone strike",
         "Military Forces of Russia (2000-) Air Force",
         "Military Forces of Russia (2000-)",
         "8",
         "80",
         null,
         "804",
         "Europe",
         "Ukraine",
         "Sumy",
         "Shostkynskyi",
         "Esmanska",
         "Bila Bereza",
         "51.7339",
         "34.3415",
         "2",
         "Ministry of Defence of Ukraine",
         "Other",
         "On 1 May 2025, Russian forces conducted drone strikes and shelled with 120mm mortars near Bila Bereza, Sumy. Casualties unknown.",
         "0",
         null,
         "1746560208"
        ],
        [
         "2",
         "UKR223688",
         "01 May 2025",
         "2025",
         "1",
         "Political violence",
         "Explosions/Remote violence",
         "Air/drone strike",
         "Military Forces of Russia (2000-) Air Force",
         null,
         "8",
         "80",
         null,
         "804",
         "Europe",
         "Ukraine",
         "Chernihiv",
         "Novhorod-Siverskyi",
         "Novhorod-Siverska",
         "Kovpynka",
         "52.2196",
         "33.2445",
         "2",
         "Ministry of Defence of Ukraine",
         "Other",
         "On 1 May 2025, Russian forces conducted a KAB strike near Kovpynka, Chernihiv. A private house, outbuildings, and a municipal building were damaged. Casualties unknown.",
         "0",
         null,
         "1746560208"
        ],
        [
         "3",
         "UKR223714",
         "01 May 2025",
         "2025",
         "1",
         "Political violence",
         "Explosions/Remote violence",
         "Air/drone strike",
         "Military Forces of Russia (2000-) Air Force",
         null,
         "8",
         "80",
         null,
         "804",
         "Europe",
         "Ukraine",
         "Sumy",
         "Sumskyi",
         "Krasnopilska",
         "Prokhody",
         "50.9208",
         "35.3411",
         "2",
         "Ministry of Defence of Ukraine",
         "Other",
         "On 1 May 2025, Russian forces conducted 3 KAB strikes as well as FPV drone strikes near Prokhody, Sumy. Casualties unknown.",
         "0",
         null,
         "1746560208"
        ],
        [
         "4",
         "UKR223720",
         "01 May 2025",
         "2025",
         "1",
         "Political violence",
         "Explosions/Remote violence",
         "Air/drone strike",
         "Military Forces of Russia (2000-) Air Force",
         null,
         "8",
         "80",
         null,
         "804",
         "Europe",
         "Ukraine",
         "Sumy",
         "Sumskyi",
         "Krasnopilska",
         "Stepok",
         "50.8508",
         "35.3941",
         "2",
         "Ministry of Defence of Ukraine",
         "Other",
         "On 1 May 2025, Russian forces conducted 6 KAB strikes as well as FPV drone strikes near Stepok, Sumy. Casualties unknown.",
         "0",
         null,
         "1746560208"
        ]
       ],
       "shape": {
        "columns": 28,
        "rows": 5
       }
      },
      "text/html": [
       "<div>\n",
       "<style scoped>\n",
       "    .dataframe tbody tr th:only-of-type {\n",
       "        vertical-align: middle;\n",
       "    }\n",
       "\n",
       "    .dataframe tbody tr th {\n",
       "        vertical-align: top;\n",
       "    }\n",
       "\n",
       "    .dataframe thead th {\n",
       "        text-align: right;\n",
       "    }\n",
       "</style>\n",
       "<table border=\"1\" class=\"dataframe\">\n",
       "  <thead>\n",
       "    <tr style=\"text-align: right;\">\n",
       "      <th></th>\n",
       "      <th>event_id_cnty</th>\n",
       "      <th>event_date</th>\n",
       "      <th>year</th>\n",
       "      <th>time_precision</th>\n",
       "      <th>disorder_type</th>\n",
       "      <th>event_type</th>\n",
       "      <th>sub_event_type</th>\n",
       "      <th>actor1</th>\n",
       "      <th>assoc_actor_1</th>\n",
       "      <th>inter1</th>\n",
       "      <th>...</th>\n",
       "      <th>location</th>\n",
       "      <th>latitude</th>\n",
       "      <th>longitude</th>\n",
       "      <th>geo_precision</th>\n",
       "      <th>source</th>\n",
       "      <th>source_scale</th>\n",
       "      <th>notes</th>\n",
       "      <th>fatalities</th>\n",
       "      <th>tags</th>\n",
       "      <th>timestamp</th>\n",
       "    </tr>\n",
       "  </thead>\n",
       "  <tbody>\n",
       "    <tr>\n",
       "      <th>0</th>\n",
       "      <td>RUS36157</td>\n",
       "      <td>01 May 2025</td>\n",
       "      <td>2025</td>\n",
       "      <td>1</td>\n",
       "      <td>Political violence</td>\n",
       "      <td>Explosions/Remote violence</td>\n",
       "      <td>Air/drone strike</td>\n",
       "      <td>Military Forces of Ukraine (2019-) Air Force</td>\n",
       "      <td>Military Forces of Ukraine (2019-)</td>\n",
       "      <td>8</td>\n",
       "      <td>...</td>\n",
       "      <td>Romanovka</td>\n",
       "      <td>50.9545</td>\n",
       "      <td>35.4445</td>\n",
       "      <td>1</td>\n",
       "      <td>Belgorod Governor</td>\n",
       "      <td>Subnational</td>\n",
       "      <td>On 1 May 2025, Ukrainian military carried out ...</td>\n",
       "      <td>0</td>\n",
       "      <td>NaN</td>\n",
       "      <td>1746560207</td>\n",
       "    </tr>\n",
       "    <tr>\n",
       "      <th>1</th>\n",
       "      <td>UKR223669</td>\n",
       "      <td>01 May 2025</td>\n",
       "      <td>2025</td>\n",
       "      <td>1</td>\n",
       "      <td>Political violence</td>\n",
       "      <td>Explosions/Remote violence</td>\n",
       "      <td>Air/drone strike</td>\n",
       "      <td>Military Forces of Russia (2000-) Air Force</td>\n",
       "      <td>Military Forces of Russia (2000-)</td>\n",
       "      <td>8</td>\n",
       "      <td>...</td>\n",
       "      <td>Bila Bereza</td>\n",
       "      <td>51.7339</td>\n",
       "      <td>34.3415</td>\n",
       "      <td>2</td>\n",
       "      <td>Ministry of Defence of Ukraine</td>\n",
       "      <td>Other</td>\n",
       "      <td>On 1 May 2025, Russian forces conducted drone ...</td>\n",
       "      <td>0</td>\n",
       "      <td>NaN</td>\n",
       "      <td>1746560208</td>\n",
       "    </tr>\n",
       "    <tr>\n",
       "      <th>2</th>\n",
       "      <td>UKR223688</td>\n",
       "      <td>01 May 2025</td>\n",
       "      <td>2025</td>\n",
       "      <td>1</td>\n",
       "      <td>Political violence</td>\n",
       "      <td>Explosions/Remote violence</td>\n",
       "      <td>Air/drone strike</td>\n",
       "      <td>Military Forces of Russia (2000-) Air Force</td>\n",
       "      <td>NaN</td>\n",
       "      <td>8</td>\n",
       "      <td>...</td>\n",
       "      <td>Kovpynka</td>\n",
       "      <td>52.2196</td>\n",
       "      <td>33.2445</td>\n",
       "      <td>2</td>\n",
       "      <td>Ministry of Defence of Ukraine</td>\n",
       "      <td>Other</td>\n",
       "      <td>On 1 May 2025, Russian forces conducted a KAB ...</td>\n",
       "      <td>0</td>\n",
       "      <td>NaN</td>\n",
       "      <td>1746560208</td>\n",
       "    </tr>\n",
       "    <tr>\n",
       "      <th>3</th>\n",
       "      <td>UKR223714</td>\n",
       "      <td>01 May 2025</td>\n",
       "      <td>2025</td>\n",
       "      <td>1</td>\n",
       "      <td>Political violence</td>\n",
       "      <td>Explosions/Remote violence</td>\n",
       "      <td>Air/drone strike</td>\n",
       "      <td>Military Forces of Russia (2000-) Air Force</td>\n",
       "      <td>NaN</td>\n",
       "      <td>8</td>\n",
       "      <td>...</td>\n",
       "      <td>Prokhody</td>\n",
       "      <td>50.9208</td>\n",
       "      <td>35.3411</td>\n",
       "      <td>2</td>\n",
       "      <td>Ministry of Defence of Ukraine</td>\n",
       "      <td>Other</td>\n",
       "      <td>On 1 May 2025, Russian forces conducted 3 KAB ...</td>\n",
       "      <td>0</td>\n",
       "      <td>NaN</td>\n",
       "      <td>1746560208</td>\n",
       "    </tr>\n",
       "    <tr>\n",
       "      <th>4</th>\n",
       "      <td>UKR223720</td>\n",
       "      <td>01 May 2025</td>\n",
       "      <td>2025</td>\n",
       "      <td>1</td>\n",
       "      <td>Political violence</td>\n",
       "      <td>Explosions/Remote violence</td>\n",
       "      <td>Air/drone strike</td>\n",
       "      <td>Military Forces of Russia (2000-) Air Force</td>\n",
       "      <td>NaN</td>\n",
       "      <td>8</td>\n",
       "      <td>...</td>\n",
       "      <td>Stepok</td>\n",
       "      <td>50.8508</td>\n",
       "      <td>35.3941</td>\n",
       "      <td>2</td>\n",
       "      <td>Ministry of Defence of Ukraine</td>\n",
       "      <td>Other</td>\n",
       "      <td>On 1 May 2025, Russian forces conducted 6 KAB ...</td>\n",
       "      <td>0</td>\n",
       "      <td>NaN</td>\n",
       "      <td>1746560208</td>\n",
       "    </tr>\n",
       "  </tbody>\n",
       "</table>\n",
       "<p>5 rows × 28 columns</p>\n",
       "</div>"
      ],
      "text/plain": [
       "  event_id_cnty   event_date  year  time_precision       disorder_type  \\\n",
       "0      RUS36157  01 May 2025  2025               1  Political violence   \n",
       "1     UKR223669  01 May 2025  2025               1  Political violence   \n",
       "2     UKR223688  01 May 2025  2025               1  Political violence   \n",
       "3     UKR223714  01 May 2025  2025               1  Political violence   \n",
       "4     UKR223720  01 May 2025  2025               1  Political violence   \n",
       "\n",
       "                   event_type    sub_event_type  \\\n",
       "0  Explosions/Remote violence  Air/drone strike   \n",
       "1  Explosions/Remote violence  Air/drone strike   \n",
       "2  Explosions/Remote violence  Air/drone strike   \n",
       "3  Explosions/Remote violence  Air/drone strike   \n",
       "4  Explosions/Remote violence  Air/drone strike   \n",
       "\n",
       "                                         actor1  \\\n",
       "0  Military Forces of Ukraine (2019-) Air Force   \n",
       "1   Military Forces of Russia (2000-) Air Force   \n",
       "2   Military Forces of Russia (2000-) Air Force   \n",
       "3   Military Forces of Russia (2000-) Air Force   \n",
       "4   Military Forces of Russia (2000-) Air Force   \n",
       "\n",
       "                        assoc_actor_1  inter1  ...     location latitude  \\\n",
       "0  Military Forces of Ukraine (2019-)       8  ...    Romanovka  50.9545   \n",
       "1   Military Forces of Russia (2000-)       8  ...  Bila Bereza  51.7339   \n",
       "2                                 NaN       8  ...     Kovpynka  52.2196   \n",
       "3                                 NaN       8  ...     Prokhody  50.9208   \n",
       "4                                 NaN       8  ...       Stepok  50.8508   \n",
       "\n",
       "   longitude geo_precision                          source source_scale  \\\n",
       "0    35.4445             1               Belgorod Governor  Subnational   \n",
       "1    34.3415             2  Ministry of Defence of Ukraine        Other   \n",
       "2    33.2445             2  Ministry of Defence of Ukraine        Other   \n",
       "3    35.3411             2  Ministry of Defence of Ukraine        Other   \n",
       "4    35.3941             2  Ministry of Defence of Ukraine        Other   \n",
       "\n",
       "                                               notes fatalities tags  \\\n",
       "0  On 1 May 2025, Ukrainian military carried out ...          0  NaN   \n",
       "1  On 1 May 2025, Russian forces conducted drone ...          0  NaN   \n",
       "2  On 1 May 2025, Russian forces conducted a KAB ...          0  NaN   \n",
       "3  On 1 May 2025, Russian forces conducted 3 KAB ...          0  NaN   \n",
       "4  On 1 May 2025, Russian forces conducted 6 KAB ...          0  NaN   \n",
       "\n",
       "    timestamp  \n",
       "0  1746560207  \n",
       "1  1746560208  \n",
       "2  1746560208  \n",
       "3  1746560208  \n",
       "4  1746560208  \n",
       "\n",
       "[5 rows x 28 columns]"
      ]
     },
     "execution_count": 3,
     "metadata": {},
     "output_type": "execute_result"
    }
   ],
   "source": [
    "data = pd.read_csv(\"2022-06-28-2025-05-01-Russia-Ukraine.csv\")\n",
    "df=pd.DataFrame(data)\n",
    "df.head()"
   ]
  },
  {
   "cell_type": "code",
   "execution_count": 4,
   "id": "763b664a",
   "metadata": {},
   "outputs": [
    {
     "data": {
      "text/plain": [
       "Index(['event_id_cnty', 'event_date', 'year', 'time_precision',\n",
       "       'disorder_type', 'event_type', 'sub_event_type', 'actor1',\n",
       "       'assoc_actor_1', 'inter1', 'interaction', 'civilian_targeting', 'iso',\n",
       "       'region', 'country', 'admin1', 'admin2', 'admin3', 'location',\n",
       "       'latitude', 'longitude', 'geo_precision', 'source', 'source_scale',\n",
       "       'notes', 'fatalities', 'tags', 'timestamp'],\n",
       "      dtype='object')"
      ]
     },
     "execution_count": 4,
     "metadata": {},
     "output_type": "execute_result"
    }
   ],
   "source": [
    "#colums identification\n",
    "df.columns"
   ]
  },
  {
   "cell_type": "markdown",
   "id": "b25743ee",
   "metadata": {},
   "source": [
    "removing columns that does't affect the ccm model"
   ]
  },
  {
   "cell_type": "code",
   "execution_count": 5,
   "id": "89934264",
   "metadata": {},
   "outputs": [],
   "source": [
    "df.drop([\"time_precision\", \"assoc_actor_1\", \"inter1\", \"interaction\", \"civilian_targeting\", \"iso\", \"region\", \"admin2\", \"admin3\", \"geo_precision\", \"source\", \"source_scale\", \"tags\"],axis=1,inplace=True)"
   ]
  },
  {
   "cell_type": "code",
   "execution_count": 6,
   "id": "efc7b199",
   "metadata": {},
   "outputs": [
    {
     "data": {
      "application/vnd.microsoft.datawrangler.viewer.v0+json": {
       "columns": [
        {
         "name": "index",
         "rawType": "object",
         "type": "string"
        },
        {
         "name": "0",
         "rawType": "int64",
         "type": "integer"
        }
       ],
       "ref": "033d8039-90d2-4804-bf7d-30437920bb3b",
       "rows": [
        [
         "event_id_cnty",
         "0"
        ],
        [
         "event_date",
         "0"
        ],
        [
         "year",
         "0"
        ],
        [
         "disorder_type",
         "0"
        ],
        [
         "event_type",
         "0"
        ],
        [
         "sub_event_type",
         "0"
        ],
        [
         "actor1",
         "4792"
        ],
        [
         "country",
         "0"
        ],
        [
         "admin1",
         "188"
        ],
        [
         "location",
         "0"
        ],
        [
         "latitude",
         "0"
        ],
        [
         "longitude",
         "0"
        ],
        [
         "notes",
         "0"
        ],
        [
         "fatalities",
         "0"
        ],
        [
         "timestamp",
         "0"
        ]
       ],
       "shape": {
        "columns": 1,
        "rows": 15
       }
      },
      "text/plain": [
       "event_id_cnty        0\n",
       "event_date           0\n",
       "year                 0\n",
       "disorder_type        0\n",
       "event_type           0\n",
       "sub_event_type       0\n",
       "actor1            4792\n",
       "country              0\n",
       "admin1             188\n",
       "location             0\n",
       "latitude             0\n",
       "longitude            0\n",
       "notes                0\n",
       "fatalities           0\n",
       "timestamp            0\n",
       "dtype: int64"
      ]
     },
     "execution_count": 6,
     "metadata": {},
     "output_type": "execute_result"
    }
   ],
   "source": [
    "df.isnull().sum()\n"
   ]
  },
  {
   "cell_type": "code",
   "execution_count": 7,
   "id": "2e389435",
   "metadata": {},
   "outputs": [],
   "source": [
    "#removing the null values cause don't want to mess with professional data\n",
    "df=df.dropna()"
   ]
  },
  {
   "cell_type": "code",
   "execution_count": 8,
   "id": "24a89d44",
   "metadata": {},
   "outputs": [
    {
     "data": {
      "application/vnd.microsoft.datawrangler.viewer.v0+json": {
       "columns": [
        {
         "name": "index",
         "rawType": "int64",
         "type": "integer"
        },
        {
         "name": "event_id_cnty",
         "rawType": "object",
         "type": "string"
        },
        {
         "name": "event_date",
         "rawType": "object",
         "type": "string"
        },
        {
         "name": "year",
         "rawType": "int64",
         "type": "integer"
        },
        {
         "name": "disorder_type",
         "rawType": "object",
         "type": "string"
        },
        {
         "name": "event_type",
         "rawType": "object",
         "type": "string"
        },
        {
         "name": "sub_event_type",
         "rawType": "object",
         "type": "string"
        },
        {
         "name": "actor1",
         "rawType": "object",
         "type": "string"
        },
        {
         "name": "country",
         "rawType": "object",
         "type": "string"
        },
        {
         "name": "admin1",
         "rawType": "object",
         "type": "string"
        },
        {
         "name": "location",
         "rawType": "object",
         "type": "string"
        },
        {
         "name": "latitude",
         "rawType": "float64",
         "type": "float"
        },
        {
         "name": "longitude",
         "rawType": "float64",
         "type": "float"
        },
        {
         "name": "notes",
         "rawType": "object",
         "type": "string"
        },
        {
         "name": "fatalities",
         "rawType": "int64",
         "type": "integer"
        },
        {
         "name": "timestamp",
         "rawType": "int64",
         "type": "integer"
        }
       ],
       "ref": "d5f45a2d-c86f-49fc-88c6-805bc63c123e",
       "rows": [
        [
         "0",
         "RUS36157",
         "01 May 2025",
         "2025",
         "Political violence",
         "Explosions/Remote violence",
         "Air/drone strike",
         "Military Forces of Ukraine (2019-) Air Force",
         "Russia",
         "Belgorod",
         "Romanovka",
         "50.9545",
         "35.4445",
         "On 1 May 2025, Ukrainian military carried out 37 drone strikes and shelled 26 times with 203 likely artillery shells 10 locations across the Krasnoyaruzhskiy district, including the village of Romanovka, Belgorod. Across 10 settlements: No casualties.",
         "0",
         "1746560207"
        ],
        [
         "1",
         "UKR223669",
         "01 May 2025",
         "2025",
         "Political violence",
         "Explosions/Remote violence",
         "Air/drone strike",
         "Military Forces of Russia (2000-) Air Force",
         "Ukraine",
         "Sumy",
         "Bila Bereza",
         "51.7339",
         "34.3415",
         "On 1 May 2025, Russian forces conducted drone strikes and shelled with 120mm mortars near Bila Bereza, Sumy. Casualties unknown.",
         "0",
         "1746560208"
        ],
        [
         "2",
         "UKR223688",
         "01 May 2025",
         "2025",
         "Political violence",
         "Explosions/Remote violence",
         "Air/drone strike",
         "Military Forces of Russia (2000-) Air Force",
         "Ukraine",
         "Chernihiv",
         "Kovpynka",
         "52.2196",
         "33.2445",
         "On 1 May 2025, Russian forces conducted a KAB strike near Kovpynka, Chernihiv. A private house, outbuildings, and a municipal building were damaged. Casualties unknown.",
         "0",
         "1746560208"
        ],
        [
         "3",
         "UKR223714",
         "01 May 2025",
         "2025",
         "Political violence",
         "Explosions/Remote violence",
         "Air/drone strike",
         "Military Forces of Russia (2000-) Air Force",
         "Ukraine",
         "Sumy",
         "Prokhody",
         "50.9208",
         "35.3411",
         "On 1 May 2025, Russian forces conducted 3 KAB strikes as well as FPV drone strikes near Prokhody, Sumy. Casualties unknown.",
         "0",
         "1746560208"
        ],
        [
         "4",
         "UKR223720",
         "01 May 2025",
         "2025",
         "Political violence",
         "Explosions/Remote violence",
         "Air/drone strike",
         "Military Forces of Russia (2000-) Air Force",
         "Ukraine",
         "Sumy",
         "Stepok",
         "50.8508",
         "35.3941",
         "On 1 May 2025, Russian forces conducted 6 KAB strikes as well as FPV drone strikes near Stepok, Sumy. Casualties unknown.",
         "0",
         "1746560208"
        ]
       ],
       "shape": {
        "columns": 15,
        "rows": 5
       }
      },
      "text/html": [
       "<div>\n",
       "<style scoped>\n",
       "    .dataframe tbody tr th:only-of-type {\n",
       "        vertical-align: middle;\n",
       "    }\n",
       "\n",
       "    .dataframe tbody tr th {\n",
       "        vertical-align: top;\n",
       "    }\n",
       "\n",
       "    .dataframe thead th {\n",
       "        text-align: right;\n",
       "    }\n",
       "</style>\n",
       "<table border=\"1\" class=\"dataframe\">\n",
       "  <thead>\n",
       "    <tr style=\"text-align: right;\">\n",
       "      <th></th>\n",
       "      <th>event_id_cnty</th>\n",
       "      <th>event_date</th>\n",
       "      <th>year</th>\n",
       "      <th>disorder_type</th>\n",
       "      <th>event_type</th>\n",
       "      <th>sub_event_type</th>\n",
       "      <th>actor1</th>\n",
       "      <th>country</th>\n",
       "      <th>admin1</th>\n",
       "      <th>location</th>\n",
       "      <th>latitude</th>\n",
       "      <th>longitude</th>\n",
       "      <th>notes</th>\n",
       "      <th>fatalities</th>\n",
       "      <th>timestamp</th>\n",
       "    </tr>\n",
       "  </thead>\n",
       "  <tbody>\n",
       "    <tr>\n",
       "      <th>0</th>\n",
       "      <td>RUS36157</td>\n",
       "      <td>01 May 2025</td>\n",
       "      <td>2025</td>\n",
       "      <td>Political violence</td>\n",
       "      <td>Explosions/Remote violence</td>\n",
       "      <td>Air/drone strike</td>\n",
       "      <td>Military Forces of Ukraine (2019-) Air Force</td>\n",
       "      <td>Russia</td>\n",
       "      <td>Belgorod</td>\n",
       "      <td>Romanovka</td>\n",
       "      <td>50.9545</td>\n",
       "      <td>35.4445</td>\n",
       "      <td>On 1 May 2025, Ukrainian military carried out ...</td>\n",
       "      <td>0</td>\n",
       "      <td>1746560207</td>\n",
       "    </tr>\n",
       "    <tr>\n",
       "      <th>1</th>\n",
       "      <td>UKR223669</td>\n",
       "      <td>01 May 2025</td>\n",
       "      <td>2025</td>\n",
       "      <td>Political violence</td>\n",
       "      <td>Explosions/Remote violence</td>\n",
       "      <td>Air/drone strike</td>\n",
       "      <td>Military Forces of Russia (2000-) Air Force</td>\n",
       "      <td>Ukraine</td>\n",
       "      <td>Sumy</td>\n",
       "      <td>Bila Bereza</td>\n",
       "      <td>51.7339</td>\n",
       "      <td>34.3415</td>\n",
       "      <td>On 1 May 2025, Russian forces conducted drone ...</td>\n",
       "      <td>0</td>\n",
       "      <td>1746560208</td>\n",
       "    </tr>\n",
       "    <tr>\n",
       "      <th>2</th>\n",
       "      <td>UKR223688</td>\n",
       "      <td>01 May 2025</td>\n",
       "      <td>2025</td>\n",
       "      <td>Political violence</td>\n",
       "      <td>Explosions/Remote violence</td>\n",
       "      <td>Air/drone strike</td>\n",
       "      <td>Military Forces of Russia (2000-) Air Force</td>\n",
       "      <td>Ukraine</td>\n",
       "      <td>Chernihiv</td>\n",
       "      <td>Kovpynka</td>\n",
       "      <td>52.2196</td>\n",
       "      <td>33.2445</td>\n",
       "      <td>On 1 May 2025, Russian forces conducted a KAB ...</td>\n",
       "      <td>0</td>\n",
       "      <td>1746560208</td>\n",
       "    </tr>\n",
       "    <tr>\n",
       "      <th>3</th>\n",
       "      <td>UKR223714</td>\n",
       "      <td>01 May 2025</td>\n",
       "      <td>2025</td>\n",
       "      <td>Political violence</td>\n",
       "      <td>Explosions/Remote violence</td>\n",
       "      <td>Air/drone strike</td>\n",
       "      <td>Military Forces of Russia (2000-) Air Force</td>\n",
       "      <td>Ukraine</td>\n",
       "      <td>Sumy</td>\n",
       "      <td>Prokhody</td>\n",
       "      <td>50.9208</td>\n",
       "      <td>35.3411</td>\n",
       "      <td>On 1 May 2025, Russian forces conducted 3 KAB ...</td>\n",
       "      <td>0</td>\n",
       "      <td>1746560208</td>\n",
       "    </tr>\n",
       "    <tr>\n",
       "      <th>4</th>\n",
       "      <td>UKR223720</td>\n",
       "      <td>01 May 2025</td>\n",
       "      <td>2025</td>\n",
       "      <td>Political violence</td>\n",
       "      <td>Explosions/Remote violence</td>\n",
       "      <td>Air/drone strike</td>\n",
       "      <td>Military Forces of Russia (2000-) Air Force</td>\n",
       "      <td>Ukraine</td>\n",
       "      <td>Sumy</td>\n",
       "      <td>Stepok</td>\n",
       "      <td>50.8508</td>\n",
       "      <td>35.3941</td>\n",
       "      <td>On 1 May 2025, Russian forces conducted 6 KAB ...</td>\n",
       "      <td>0</td>\n",
       "      <td>1746560208</td>\n",
       "    </tr>\n",
       "  </tbody>\n",
       "</table>\n",
       "</div>"
      ],
      "text/plain": [
       "  event_id_cnty   event_date  year       disorder_type  \\\n",
       "0      RUS36157  01 May 2025  2025  Political violence   \n",
       "1     UKR223669  01 May 2025  2025  Political violence   \n",
       "2     UKR223688  01 May 2025  2025  Political violence   \n",
       "3     UKR223714  01 May 2025  2025  Political violence   \n",
       "4     UKR223720  01 May 2025  2025  Political violence   \n",
       "\n",
       "                   event_type    sub_event_type  \\\n",
       "0  Explosions/Remote violence  Air/drone strike   \n",
       "1  Explosions/Remote violence  Air/drone strike   \n",
       "2  Explosions/Remote violence  Air/drone strike   \n",
       "3  Explosions/Remote violence  Air/drone strike   \n",
       "4  Explosions/Remote violence  Air/drone strike   \n",
       "\n",
       "                                         actor1  country     admin1  \\\n",
       "0  Military Forces of Ukraine (2019-) Air Force   Russia   Belgorod   \n",
       "1   Military Forces of Russia (2000-) Air Force  Ukraine       Sumy   \n",
       "2   Military Forces of Russia (2000-) Air Force  Ukraine  Chernihiv   \n",
       "3   Military Forces of Russia (2000-) Air Force  Ukraine       Sumy   \n",
       "4   Military Forces of Russia (2000-) Air Force  Ukraine       Sumy   \n",
       "\n",
       "      location  latitude  longitude  \\\n",
       "0    Romanovka   50.9545    35.4445   \n",
       "1  Bila Bereza   51.7339    34.3415   \n",
       "2     Kovpynka   52.2196    33.2445   \n",
       "3     Prokhody   50.9208    35.3411   \n",
       "4       Stepok   50.8508    35.3941   \n",
       "\n",
       "                                               notes  fatalities   timestamp  \n",
       "0  On 1 May 2025, Ukrainian military carried out ...           0  1746560207  \n",
       "1  On 1 May 2025, Russian forces conducted drone ...           0  1746560208  \n",
       "2  On 1 May 2025, Russian forces conducted a KAB ...           0  1746560208  \n",
       "3  On 1 May 2025, Russian forces conducted 3 KAB ...           0  1746560208  \n",
       "4  On 1 May 2025, Russian forces conducted 6 KAB ...           0  1746560208  "
      ]
     },
     "execution_count": 8,
     "metadata": {},
     "output_type": "execute_result"
    }
   ],
   "source": [
    "df.head()"
   ]
  },
  {
   "cell_type": "code",
   "execution_count": 9,
   "id": "6224eabc",
   "metadata": {},
   "outputs": [
    {
     "data": {
      "application/vnd.microsoft.datawrangler.viewer.v0+json": {
       "columns": [
        {
         "name": "index",
         "rawType": "int64",
         "type": "integer"
        },
        {
         "name": "event_id_cnty",
         "rawType": "object",
         "type": "string"
        },
        {
         "name": "event_date",
         "rawType": "datetime64[ns]",
         "type": "datetime"
        },
        {
         "name": "year",
         "rawType": "int64",
         "type": "integer"
        },
        {
         "name": "disorder_type",
         "rawType": "object",
         "type": "string"
        },
        {
         "name": "event_type",
         "rawType": "object",
         "type": "string"
        },
        {
         "name": "sub_event_type",
         "rawType": "object",
         "type": "string"
        },
        {
         "name": "actor1",
         "rawType": "object",
         "type": "string"
        },
        {
         "name": "country",
         "rawType": "object",
         "type": "string"
        },
        {
         "name": "admin1",
         "rawType": "object",
         "type": "string"
        },
        {
         "name": "location",
         "rawType": "object",
         "type": "string"
        },
        {
         "name": "latitude",
         "rawType": "float64",
         "type": "float"
        },
        {
         "name": "longitude",
         "rawType": "float64",
         "type": "float"
        },
        {
         "name": "notes",
         "rawType": "object",
         "type": "string"
        },
        {
         "name": "fatalities",
         "rawType": "int64",
         "type": "integer"
        },
        {
         "name": "timestamp",
         "rawType": "int64",
         "type": "integer"
        }
       ],
       "ref": "c619d67c-2dd4-48cc-94bc-69343e7b1243",
       "rows": [
        [
         "288342",
         "UKR62369",
         "2022-06-28 00:00:00",
         "2022",
         "Political violence",
         "Explosions/Remote violence",
         "Shelling/artillery/missile attack",
         "NAF: United Armed Forces of Novorossiya",
         "Ukraine",
         "Luhansk",
         "Perevalsk",
         "48.4378",
         "38.8438",
         "On 28 June 2022, Ukrainian forces fired M142 HIMARS and BM-21 Grad missiles at the positions of the Luhansk People's Militia in Perevalsk, Luhansk, destroying the munition depot. NAF forces suffered significant losses. Unspecified fatalities coded as 10.",
         "10",
         "1750789238"
        ],
        [
         "288165",
         "UKR61664",
         "2022-06-28 00:00:00",
         "2022",
         "Political violence",
         "Explosions/Remote violence",
         "Shelling/artillery/missile attack",
         "Military Forces of Russia (2000-)",
         "Ukraine",
         "Kharkiv",
         "Tsyrkuny",
         "50.0824",
         "36.3857",
         "On 28 June 2022, Russian forces fired artillery at Tsyrkuny, Kharkiv, killing two civilians. One person was injured.",
         "2",
         "1719939648"
        ],
        [
         "288164",
         "UKR62009",
         "2022-06-28 00:00:00",
         "2022",
         "Political violence",
         "Explosions/Remote violence",
         "Shelling/artillery/missile attack",
         "Military Forces of Russia (2000-)",
         "Ukraine",
         "Sumy",
         "Starykove",
         "51.6209",
         "34.1471",
         "On 28 June 2022, Russian forces fired rocket and barrel artillery at Starykove, Sumy. Casualties unknown.",
         "0",
         "1719352939"
        ],
        [
         "288163",
         "UKR61979",
         "2022-06-28 00:00:00",
         "2022",
         "Political violence",
         "Explosions/Remote violence",
         "Shelling/artillery/missile attack",
         "Military Forces of Russia (2000-)",
         "Ukraine",
         "Zaporizhia",
         "Novodanylivka",
         "47.5242",
         "35.8235",
         "On 28 June 2022, Russian forces fired rocket and barrel artillery at Novodanylivka, Zaporizhia. Casualties unknown.",
         "0",
         "1715131311"
        ],
        [
         "288162",
         "UKR61983",
         "2022-06-28 00:00:00",
         "2022",
         "Political violence",
         "Explosions/Remote violence",
         "Shelling/artillery/missile attack",
         "Military Forces of Russia (2000-)",
         "Ukraine",
         "Zaporizhia",
         "Orikhiv",
         "47.5673",
         "35.7858",
         "On 28 June 2022, Russian forces fired artillery at Orikhiv, Zaporizhia. Casualties unknown.",
         "0",
         "1715131311"
        ]
       ],
       "shape": {
        "columns": 15,
        "rows": 5
       }
      },
      "text/html": [
       "<div>\n",
       "<style scoped>\n",
       "    .dataframe tbody tr th:only-of-type {\n",
       "        vertical-align: middle;\n",
       "    }\n",
       "\n",
       "    .dataframe tbody tr th {\n",
       "        vertical-align: top;\n",
       "    }\n",
       "\n",
       "    .dataframe thead th {\n",
       "        text-align: right;\n",
       "    }\n",
       "</style>\n",
       "<table border=\"1\" class=\"dataframe\">\n",
       "  <thead>\n",
       "    <tr style=\"text-align: right;\">\n",
       "      <th></th>\n",
       "      <th>event_id_cnty</th>\n",
       "      <th>event_date</th>\n",
       "      <th>year</th>\n",
       "      <th>disorder_type</th>\n",
       "      <th>event_type</th>\n",
       "      <th>sub_event_type</th>\n",
       "      <th>actor1</th>\n",
       "      <th>country</th>\n",
       "      <th>admin1</th>\n",
       "      <th>location</th>\n",
       "      <th>latitude</th>\n",
       "      <th>longitude</th>\n",
       "      <th>notes</th>\n",
       "      <th>fatalities</th>\n",
       "      <th>timestamp</th>\n",
       "    </tr>\n",
       "  </thead>\n",
       "  <tbody>\n",
       "    <tr>\n",
       "      <th>288342</th>\n",
       "      <td>UKR62369</td>\n",
       "      <td>2022-06-28</td>\n",
       "      <td>2022</td>\n",
       "      <td>Political violence</td>\n",
       "      <td>Explosions/Remote violence</td>\n",
       "      <td>Shelling/artillery/missile attack</td>\n",
       "      <td>NAF: United Armed Forces of Novorossiya</td>\n",
       "      <td>Ukraine</td>\n",
       "      <td>Luhansk</td>\n",
       "      <td>Perevalsk</td>\n",
       "      <td>48.4378</td>\n",
       "      <td>38.8438</td>\n",
       "      <td>On 28 June 2022, Ukrainian forces fired M142 H...</td>\n",
       "      <td>10</td>\n",
       "      <td>1750789238</td>\n",
       "    </tr>\n",
       "    <tr>\n",
       "      <th>288165</th>\n",
       "      <td>UKR61664</td>\n",
       "      <td>2022-06-28</td>\n",
       "      <td>2022</td>\n",
       "      <td>Political violence</td>\n",
       "      <td>Explosions/Remote violence</td>\n",
       "      <td>Shelling/artillery/missile attack</td>\n",
       "      <td>Military Forces of Russia (2000-)</td>\n",
       "      <td>Ukraine</td>\n",
       "      <td>Kharkiv</td>\n",
       "      <td>Tsyrkuny</td>\n",
       "      <td>50.0824</td>\n",
       "      <td>36.3857</td>\n",
       "      <td>On 28 June 2022, Russian forces fired artiller...</td>\n",
       "      <td>2</td>\n",
       "      <td>1719939648</td>\n",
       "    </tr>\n",
       "    <tr>\n",
       "      <th>288164</th>\n",
       "      <td>UKR62009</td>\n",
       "      <td>2022-06-28</td>\n",
       "      <td>2022</td>\n",
       "      <td>Political violence</td>\n",
       "      <td>Explosions/Remote violence</td>\n",
       "      <td>Shelling/artillery/missile attack</td>\n",
       "      <td>Military Forces of Russia (2000-)</td>\n",
       "      <td>Ukraine</td>\n",
       "      <td>Sumy</td>\n",
       "      <td>Starykove</td>\n",
       "      <td>51.6209</td>\n",
       "      <td>34.1471</td>\n",
       "      <td>On 28 June 2022, Russian forces fired rocket a...</td>\n",
       "      <td>0</td>\n",
       "      <td>1719352939</td>\n",
       "    </tr>\n",
       "    <tr>\n",
       "      <th>288163</th>\n",
       "      <td>UKR61979</td>\n",
       "      <td>2022-06-28</td>\n",
       "      <td>2022</td>\n",
       "      <td>Political violence</td>\n",
       "      <td>Explosions/Remote violence</td>\n",
       "      <td>Shelling/artillery/missile attack</td>\n",
       "      <td>Military Forces of Russia (2000-)</td>\n",
       "      <td>Ukraine</td>\n",
       "      <td>Zaporizhia</td>\n",
       "      <td>Novodanylivka</td>\n",
       "      <td>47.5242</td>\n",
       "      <td>35.8235</td>\n",
       "      <td>On 28 June 2022, Russian forces fired rocket a...</td>\n",
       "      <td>0</td>\n",
       "      <td>1715131311</td>\n",
       "    </tr>\n",
       "    <tr>\n",
       "      <th>288162</th>\n",
       "      <td>UKR61983</td>\n",
       "      <td>2022-06-28</td>\n",
       "      <td>2022</td>\n",
       "      <td>Political violence</td>\n",
       "      <td>Explosions/Remote violence</td>\n",
       "      <td>Shelling/artillery/missile attack</td>\n",
       "      <td>Military Forces of Russia (2000-)</td>\n",
       "      <td>Ukraine</td>\n",
       "      <td>Zaporizhia</td>\n",
       "      <td>Orikhiv</td>\n",
       "      <td>47.5673</td>\n",
       "      <td>35.7858</td>\n",
       "      <td>On 28 June 2022, Russian forces fired artiller...</td>\n",
       "      <td>0</td>\n",
       "      <td>1715131311</td>\n",
       "    </tr>\n",
       "  </tbody>\n",
       "</table>\n",
       "</div>"
      ],
      "text/plain": [
       "       event_id_cnty event_date  year       disorder_type  \\\n",
       "288342      UKR62369 2022-06-28  2022  Political violence   \n",
       "288165      UKR61664 2022-06-28  2022  Political violence   \n",
       "288164      UKR62009 2022-06-28  2022  Political violence   \n",
       "288163      UKR61979 2022-06-28  2022  Political violence   \n",
       "288162      UKR61983 2022-06-28  2022  Political violence   \n",
       "\n",
       "                        event_type                     sub_event_type  \\\n",
       "288342  Explosions/Remote violence  Shelling/artillery/missile attack   \n",
       "288165  Explosions/Remote violence  Shelling/artillery/missile attack   \n",
       "288164  Explosions/Remote violence  Shelling/artillery/missile attack   \n",
       "288163  Explosions/Remote violence  Shelling/artillery/missile attack   \n",
       "288162  Explosions/Remote violence  Shelling/artillery/missile attack   \n",
       "\n",
       "                                         actor1  country      admin1  \\\n",
       "288342  NAF: United Armed Forces of Novorossiya  Ukraine     Luhansk   \n",
       "288165        Military Forces of Russia (2000-)  Ukraine     Kharkiv   \n",
       "288164        Military Forces of Russia (2000-)  Ukraine        Sumy   \n",
       "288163        Military Forces of Russia (2000-)  Ukraine  Zaporizhia   \n",
       "288162        Military Forces of Russia (2000-)  Ukraine  Zaporizhia   \n",
       "\n",
       "             location  latitude  longitude  \\\n",
       "288342      Perevalsk   48.4378    38.8438   \n",
       "288165       Tsyrkuny   50.0824    36.3857   \n",
       "288164      Starykove   51.6209    34.1471   \n",
       "288163  Novodanylivka   47.5242    35.8235   \n",
       "288162        Orikhiv   47.5673    35.7858   \n",
       "\n",
       "                                                    notes  fatalities  \\\n",
       "288342  On 28 June 2022, Ukrainian forces fired M142 H...          10   \n",
       "288165  On 28 June 2022, Russian forces fired artiller...           2   \n",
       "288164  On 28 June 2022, Russian forces fired rocket a...           0   \n",
       "288163  On 28 June 2022, Russian forces fired rocket a...           0   \n",
       "288162  On 28 June 2022, Russian forces fired artiller...           0   \n",
       "\n",
       "         timestamp  \n",
       "288342  1750789238  \n",
       "288165  1719939648  \n",
       "288164  1719352939  \n",
       "288163  1715131311  \n",
       "288162  1715131311  "
      ]
     },
     "execution_count": 9,
     "metadata": {},
     "output_type": "execute_result"
    }
   ],
   "source": [
    "df[\"event_date\"] = pd.to_datetime(df[\"event_date\"])\n",
    "df = df.sort_values(\"event_date\")\n",
    "df.head()"
   ]
  },
  {
   "cell_type": "code",
   "execution_count": 10,
   "id": "060d76e3",
   "metadata": {},
   "outputs": [
    {
     "data": {
      "application/vnd.microsoft.datawrangler.viewer.v0+json": {
       "columns": [
        {
         "name": "disorder_type",
         "rawType": "object",
         "type": "string"
        },
        {
         "name": "count",
         "rawType": "int64",
         "type": "integer"
        }
       ],
       "ref": "d930672f-bd85-42e8-ba68-e73a10aed97b",
       "rows": [
        [
         "Political violence",
         "257868"
        ],
        [
         "Strategic developments",
         "23390"
        ],
        [
         "Demonstrations",
         "2103"
        ],
        [
         "Political violence; Demonstrations",
         "2"
        ]
       ],
       "shape": {
        "columns": 1,
        "rows": 4
       }
      },
      "text/plain": [
       "disorder_type\n",
       "Political violence                    257868\n",
       "Strategic developments                 23390\n",
       "Demonstrations                          2103\n",
       "Political violence; Demonstrations         2\n",
       "Name: count, dtype: int64"
      ]
     },
     "execution_count": 10,
     "metadata": {},
     "output_type": "execute_result"
    }
   ],
   "source": [
    "df[\"disorder_type\"].value_counts()"
   ]
  },
  {
   "cell_type": "code",
   "execution_count": 11,
   "id": "2b3854e8",
   "metadata": {},
   "outputs": [
    {
     "data": {
      "application/vnd.microsoft.datawrangler.viewer.v0+json": {
       "columns": [
        {
         "name": "event_type",
         "rawType": "object",
         "type": "string"
        },
        {
         "name": "count",
         "rawType": "int64",
         "type": "integer"
        }
       ],
       "ref": "9b9bd156-d3fb-4fc6-a67b-8ad22fb3a886",
       "rows": [
        [
         "Explosions/Remote violence",
         "170644"
        ],
        [
         "Battles",
         "85066"
        ],
        [
         "Strategic developments",
         "23390"
        ],
        [
         "Violence against civilians",
         "2118"
        ],
        [
         "Protests",
         "2093"
        ],
        [
         "Riots",
         "52"
        ]
       ],
       "shape": {
        "columns": 1,
        "rows": 6
       }
      },
      "text/plain": [
       "event_type\n",
       "Explosions/Remote violence    170644\n",
       "Battles                        85066\n",
       "Strategic developments         23390\n",
       "Violence against civilians      2118\n",
       "Protests                        2093\n",
       "Riots                             52\n",
       "Name: count, dtype: int64"
      ]
     },
     "execution_count": 11,
     "metadata": {},
     "output_type": "execute_result"
    }
   ],
   "source": [
    "df[\"event_type\"].value_counts()"
   ]
  },
  {
   "cell_type": "code",
   "execution_count": 15,
   "id": "a76482bd",
   "metadata": {},
   "outputs": [],
   "source": [
    "ru_series = df[df['country'] == 'Russia'].groupby(pd.Grouper(key='event_date', freq='D'))['event_type'].sum()\n",
    "uk_series = df[df['country'] == 'Ukraine'].groupby(pd.Grouper(key='event_date', freq='D'))['fatalities'].sum()"
   ]
  },
  {
   "cell_type": "code",
   "execution_count": 16,
   "id": "ea1c3e76",
   "metadata": {},
   "outputs": [
    {
     "data": {
      "application/vnd.microsoft.datawrangler.viewer.v0+json": {
       "columns": [
        {
         "name": "event_date",
         "rawType": "datetime64[ns]",
         "type": "datetime"
        },
        {
         "name": "Battles",
         "rawType": "float64",
         "type": "float"
        },
        {
         "name": "Explosions/Remote violence",
         "rawType": "float64",
         "type": "float"
        },
        {
         "name": "Protests",
         "rawType": "float64",
         "type": "float"
        },
        {
         "name": "Riots",
         "rawType": "float64",
         "type": "float"
        },
        {
         "name": "Strategic developments",
         "rawType": "float64",
         "type": "float"
        },
        {
         "name": "Violence against civilians",
         "rawType": "float64",
         "type": "float"
        }
       ],
       "ref": "83fad845-bde9-46e5-86d7-0abf6c7c7f8e",
       "rows": [
        [
         "2022-06-28 00:00:00",
         "48.0",
         "164.0",
         "2.0",
         "0.0",
         "42.0",
         "4.0"
        ],
        [
         "2022-06-29 00:00:00",
         "42.0",
         "102.0",
         "2.0",
         "0.0",
         "23.0",
         "0.0"
        ],
        [
         "2022-06-30 00:00:00",
         "62.0",
         "165.0",
         "0.0",
         "0.0",
         "32.0",
         "2.0"
        ],
        [
         "2022-07-01 00:00:00",
         "22.0",
         "145.0",
         "5.0",
         "0.0",
         "37.0",
         "8.0"
        ],
        [
         "2022-07-02 00:00:00",
         "26.0",
         "183.0",
         "1.0",
         "0.0",
         "20.0",
         "0.0"
        ]
       ],
       "shape": {
        "columns": 6,
        "rows": 5
       }
      },
      "text/html": [
       "<div>\n",
       "<style scoped>\n",
       "    .dataframe tbody tr th:only-of-type {\n",
       "        vertical-align: middle;\n",
       "    }\n",
       "\n",
       "    .dataframe tbody tr th {\n",
       "        vertical-align: top;\n",
       "    }\n",
       "\n",
       "    .dataframe thead th {\n",
       "        text-align: right;\n",
       "    }\n",
       "</style>\n",
       "<table border=\"1\" class=\"dataframe\">\n",
       "  <thead>\n",
       "    <tr style=\"text-align: right;\">\n",
       "      <th>event_type</th>\n",
       "      <th>Battles</th>\n",
       "      <th>Explosions/Remote violence</th>\n",
       "      <th>Protests</th>\n",
       "      <th>Riots</th>\n",
       "      <th>Strategic developments</th>\n",
       "      <th>Violence against civilians</th>\n",
       "    </tr>\n",
       "    <tr>\n",
       "      <th>event_date</th>\n",
       "      <th></th>\n",
       "      <th></th>\n",
       "      <th></th>\n",
       "      <th></th>\n",
       "      <th></th>\n",
       "      <th></th>\n",
       "    </tr>\n",
       "  </thead>\n",
       "  <tbody>\n",
       "    <tr>\n",
       "      <th>2022-06-28</th>\n",
       "      <td>48.0</td>\n",
       "      <td>164.0</td>\n",
       "      <td>2.0</td>\n",
       "      <td>0.0</td>\n",
       "      <td>42.0</td>\n",
       "      <td>4.0</td>\n",
       "    </tr>\n",
       "    <tr>\n",
       "      <th>2022-06-29</th>\n",
       "      <td>42.0</td>\n",
       "      <td>102.0</td>\n",
       "      <td>2.0</td>\n",
       "      <td>0.0</td>\n",
       "      <td>23.0</td>\n",
       "      <td>0.0</td>\n",
       "    </tr>\n",
       "    <tr>\n",
       "      <th>2022-06-30</th>\n",
       "      <td>62.0</td>\n",
       "      <td>165.0</td>\n",
       "      <td>0.0</td>\n",
       "      <td>0.0</td>\n",
       "      <td>32.0</td>\n",
       "      <td>2.0</td>\n",
       "    </tr>\n",
       "    <tr>\n",
       "      <th>2022-07-01</th>\n",
       "      <td>22.0</td>\n",
       "      <td>145.0</td>\n",
       "      <td>5.0</td>\n",
       "      <td>0.0</td>\n",
       "      <td>37.0</td>\n",
       "      <td>8.0</td>\n",
       "    </tr>\n",
       "    <tr>\n",
       "      <th>2022-07-02</th>\n",
       "      <td>26.0</td>\n",
       "      <td>183.0</td>\n",
       "      <td>1.0</td>\n",
       "      <td>0.0</td>\n",
       "      <td>20.0</td>\n",
       "      <td>0.0</td>\n",
       "    </tr>\n",
       "  </tbody>\n",
       "</table>\n",
       "</div>"
      ],
      "text/plain": [
       "event_type  Battles  Explosions/Remote violence  Protests  Riots  \\\n",
       "event_date                                                         \n",
       "2022-06-28     48.0                       164.0       2.0    0.0   \n",
       "2022-06-29     42.0                       102.0       2.0    0.0   \n",
       "2022-06-30     62.0                       165.0       0.0    0.0   \n",
       "2022-07-01     22.0                       145.0       5.0    0.0   \n",
       "2022-07-02     26.0                       183.0       1.0    0.0   \n",
       "\n",
       "event_type  Strategic developments  Violence against civilians  \n",
       "event_date                                                      \n",
       "2022-06-28                    42.0                         4.0  \n",
       "2022-06-29                    23.0                         0.0  \n",
       "2022-06-30                    32.0                         2.0  \n",
       "2022-07-01                    37.0                         8.0  \n",
       "2022-07-02                    20.0                         0.0  "
      ]
     },
     "execution_count": 16,
     "metadata": {},
     "output_type": "execute_result"
    }
   ],
   "source": [
    "event_ts = df.groupby([\"event_date\", \"event_type\"]).size().unstack().fillna(0)\n",
    "event_ts.head()"
   ]
  },
  {
   "cell_type": "code",
   "execution_count": 20,
   "id": "c348da0b",
   "metadata": {},
   "outputs": [
    {
     "data": {
      "application/vnd.microsoft.datawrangler.viewer.v0+json": {
       "columns": [
        {
         "name": "index",
         "rawType": "int64",
         "type": "integer"
        },
        {
         "name": "time",
         "rawType": "datetime64[ns]",
         "type": "datetime"
        },
        {
         "name": "ru_events",
         "rawType": "float64",
         "type": "float"
        },
        {
         "name": "uk_fatalities",
         "rawType": "float64",
         "type": "float"
        }
       ],
       "ref": "9619fab5-934d-4682-816e-f1679b249ef5",
       "rows": [
        [
         "0",
         "2022-07-01 00:00:00",
         "-0.9655104552305359",
         "-0.7517959033476471"
        ],
        [
         "1",
         "2022-07-02 00:00:00",
         "-0.9393466677438977",
         "-0.8377093625099932"
        ],
        [
         "2",
         "2022-07-03 00:00:00",
         "-0.9393466677438977",
         "-1.35700849344684"
        ],
        [
         "3",
         "2022-07-04 00:00:00",
         "-0.9262647740005786",
         "-1.1508161914572097"
        ],
        [
         "4",
         "2022-07-05 00:00:00",
         "-0.9131828802572596",
         "-1.393283065093164"
        ]
       ],
       "shape": {
        "columns": 3,
        "rows": 5
       }
      },
      "text/html": [
       "<div>\n",
       "<style scoped>\n",
       "    .dataframe tbody tr th:only-of-type {\n",
       "        vertical-align: middle;\n",
       "    }\n",
       "\n",
       "    .dataframe tbody tr th {\n",
       "        vertical-align: top;\n",
       "    }\n",
       "\n",
       "    .dataframe thead th {\n",
       "        text-align: right;\n",
       "    }\n",
       "</style>\n",
       "<table border=\"1\" class=\"dataframe\">\n",
       "  <thead>\n",
       "    <tr style=\"text-align: right;\">\n",
       "      <th></th>\n",
       "      <th>time</th>\n",
       "      <th>ru_events</th>\n",
       "      <th>uk_fatalities</th>\n",
       "    </tr>\n",
       "  </thead>\n",
       "  <tbody>\n",
       "    <tr>\n",
       "      <th>0</th>\n",
       "      <td>2022-07-01</td>\n",
       "      <td>-0.965510</td>\n",
       "      <td>-0.751796</td>\n",
       "    </tr>\n",
       "    <tr>\n",
       "      <th>1</th>\n",
       "      <td>2022-07-02</td>\n",
       "      <td>-0.939347</td>\n",
       "      <td>-0.837709</td>\n",
       "    </tr>\n",
       "    <tr>\n",
       "      <th>2</th>\n",
       "      <td>2022-07-03</td>\n",
       "      <td>-0.939347</td>\n",
       "      <td>-1.357008</td>\n",
       "    </tr>\n",
       "    <tr>\n",
       "      <th>3</th>\n",
       "      <td>2022-07-04</td>\n",
       "      <td>-0.926265</td>\n",
       "      <td>-1.150816</td>\n",
       "    </tr>\n",
       "    <tr>\n",
       "      <th>4</th>\n",
       "      <td>2022-07-05</td>\n",
       "      <td>-0.913183</td>\n",
       "      <td>-1.393283</td>\n",
       "    </tr>\n",
       "  </tbody>\n",
       "</table>\n",
       "</div>"
      ],
      "text/plain": [
       "        time  ru_events  uk_fatalities\n",
       "0 2022-07-01  -0.965510      -0.751796\n",
       "1 2022-07-02  -0.939347      -0.837709\n",
       "2 2022-07-03  -0.939347      -1.357008\n",
       "3 2022-07-04  -0.926265      -1.150816\n",
       "4 2022-07-05  -0.913183      -1.393283"
      ]
     },
     "execution_count": 20,
     "metadata": {},
     "output_type": "execute_result"
    }
   ],
   "source": [
    "from scipy.stats import zscore\n",
    "\n",
    "# Step 1: Count events and sum fatalities\n",
    "ru_series = df[df['country'] == 'Russia'].groupby(pd.Grouper(key='event_date', freq='D'))['event_type'].count()\n",
    "uk_series = df[df['country'] == 'Ukraine'].groupby(pd.Grouper(key='event_date', freq='D'))['fatalities'].sum()\n",
    "\n",
    "# Step 2: Apply smoothing\n",
    "ru_series = ru_series.rolling(7, center=True).mean()\n",
    "uk_series = uk_series.rolling(7, center=True).mean()\n",
    "\n",
    "# Step 3: Drop NaNs before zscore\n",
    "ru_series = ru_series.dropna()\n",
    "uk_series = uk_series.dropna()\n",
    "\n",
    "# Step 4: Align indexes (important before applying zscore)\n",
    "common_index = ru_series.index.intersection(uk_series.index)\n",
    "ru_series = ru_series.loc[common_index]\n",
    "uk_series = uk_series.loc[common_index]\n",
    "\n",
    "# Step 5: Z-score and convert back to Series\n",
    "ru_series_z = pd.Series(zscore(ru_series), index=ru_series.index)\n",
    "uk_series_z = pd.Series(zscore(uk_series), index=uk_series.index)\n",
    "\n",
    "# Step 6: Combine into final CCM input DataFrame\n",
    "df_ccm = pd.DataFrame({\n",
    "    'time': ru_series_z.index,\n",
    "    'ru_events': ru_series_z,\n",
    "    'uk_fatalities': uk_series_z\n",
    "}).dropna().reset_index(drop=True)\n",
    "\n",
    "df_ccm.head()\n"
   ]
  },
  {
   "cell_type": "code",
   "execution_count": 25,
   "id": "cbaa52db",
   "metadata": {},
   "outputs": [],
   "source": [
    "import pyEDM\n",
    "\n",
    "# You already have df_ccm in memory, use it directly\n",
    "ccm_ru_to_uk = pyEDM.CCM(dataFrame=df_ccm,\n",
    "                         E=3,\n",
    "                         columns=\"ru_events\",\n",
    "                         target=\"uk_fatalities\",\n",
    "                         libSizes=\"10 100 10\",\n",
    "                         sample=100)\n",
    "\n",
    "ccm_uk_to_ru = pyEDM.CCM(dataFrame=df_ccm,\n",
    "                         E=3,\n",
    "                         columns=\"uk_fatalities\",\n",
    "                         target=\"ru_events\",\n",
    "                         libSizes=\"10 100 10\",\n",
    "                         sample=100)\n"
   ]
  },
  {
   "cell_type": "code",
   "execution_count": 26,
   "id": "b3091eac",
   "metadata": {},
   "outputs": [],
   "source": [
    "import pandas as pd\n",
    "\n",
    "# Convert CCM output (list of dicts) to DataFrames\n",
    "df_ru_to_uk = pd.DataFrame(ccm_ru_to_uk)\n",
    "df_uk_to_ru = pd.DataFrame(ccm_uk_to_ru)\n"
   ]
  },
  {
   "cell_type": "code",
   "execution_count": 28,
   "id": "19cc7567",
   "metadata": {},
   "outputs": [
    {
     "name": "stdout",
     "output_type": "stream",
     "text": [
      "<class 'pandas.core.frame.DataFrame'>\n",
      "   LibSize  ru_events:uk_fatalities  uk_fatalities:ru_events\n",
      "0       10                 0.639928                 0.661133\n",
      "1       20                 0.686213                 0.722089\n"
     ]
    }
   ],
   "source": [
    "print(type(ccm_ru_to_uk))\n",
    "print(ccm_ru_to_uk[:2])  # preview first 2 entries\n"
   ]
  },
  {
   "cell_type": "code",
   "execution_count": 29,
   "id": "8580e3ed",
   "metadata": {},
   "outputs": [],
   "source": [
    "df_ru_to_uk = pd.DataFrame(ccm_ru_to_uk)\n",
    "df_uk_to_ru = pd.DataFrame(ccm_uk_to_ru)\n",
    "\n",
    "# Standardize column names\n",
    "df_ru_to_uk.columns = [col.lower() for col in df_ru_to_uk.columns]\n",
    "df_uk_to_ru.columns = [col.lower() for col in df_uk_to_ru.columns]\n"
   ]
  },
  {
   "cell_type": "code",
   "execution_count": 32,
   "id": "76cde548",
   "metadata": {},
   "outputs": [
    {
     "name": "stdout",
     "output_type": "stream",
     "text": [
      "Index(['libsize', 'ru_events:uk_fatalities', 'uk_fatalities:ru_events'], dtype='object')\n"
     ]
    }
   ],
   "source": [
    "print(df_ru_to_uk.columns)\n"
   ]
  },
  {
   "cell_type": "code",
   "execution_count": 33,
   "id": "e3232d49",
   "metadata": {},
   "outputs": [],
   "source": [
    "df_plot = df_ru_to_uk.rename(columns={\n",
    "    'ru_events:uk_fatalities': 'ru→uk',\n",
    "    'uk_fatalities:ru_events': 'uk→ru',\n",
    "    'libsize': 'libsize'  # Optional but explicit\n",
    "})\n"
   ]
  },
  {
   "cell_type": "code",
   "execution_count": 34,
   "id": "dc428719",
   "metadata": {},
   "outputs": [
    {
     "data": {
      "image/png": "[encoded data removed]",
      "text/plain": [
       "<Figure size 1200x600 with 1 Axes>"
      ]
     },
     "metadata": {},
     "output_type": "display_data"
    }
   ],
   "source": [
    "import matplotlib.pyplot as plt\n",
    "import seaborn as sns\n",
    "\n",
    "sns.set(style=\"whitegrid\", context=\"talk\")\n",
    "plt.figure(figsize=(12, 6))\n",
    "\n",
    "sns.lineplot(data=df_plot, x='libsize', y='ru→uk', label='ru_events → uk_fatalities', color='blue', linewidth=2.5)\n",
    "sns.lineplot(data=df_plot, x='libsize', y='uk→ru', label='uk_fatalities → ru_events', color='red', linewidth=2.5)\n",
    "\n",
    "plt.title(\"CCM Causality: Russia Events ↔ Ukraine Fatalities\", fontsize=16)\n",
    "plt.xlabel(\"Library Size\", fontsize=14)\n",
    "plt.ylabel(\"Cross-map Skill (ρ)\", fontsize=14)\n",
    "plt.legend(fontsize=12)\n",
    "plt.grid(True)\n",
    "plt.tight_layout()\n",
    "plt.show()\n"
   ]
  }
 ],
 "metadata": {
  "kernelspec": {
   "display_name": ".venv",
   "language": "python",
   "name": "python3"
  },
  "language_info": {
   "codemirror_mode": {
    "name": "ipython",
    "version": 3
   },
   "file_extension": ".py",
   "mimetype": "text/x-python",
   "name": "python",
   "nbconvert_exporter": "python",
   "pygments_lexer": "ipython3",
   "version": "3.12.4"
  }
 },
 "nbformat": 4,
 "nbformat_minor": 5
}
